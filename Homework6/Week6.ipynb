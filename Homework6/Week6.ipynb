{
 "cells": [
  {
   "cell_type": "markdown",
   "metadata": {},
   "source": [
    "# Week Six: Data manipulation, Integration and Monte Carlo\n",
    "\n",
    "The goal of filling in the requested pieces is twofold: you should be able to run the worksheet and get the requested answer with the given dataset, and you should also be able to pass with different datasets (not given). These will often check unusual inputs, etc., so try to make sure all possible input datasets are accounted for.\n",
    "\n",
    "To be graded, your notebook must be runnable start to finish. If you can't make an in-notebook test pass, comment it out for to attempt to get partial credit. You should replace the `...` markers with your code. Do not change the names of the pre-defined variables and functions.\n",
    "\n",
    "Plots should have the required elements of a plot: labels, units if valid, a legend if more than one marker or line type is present. Titles are not required."
   ]
  },
  {
   "cell_type": "code",
   "execution_count": null,
   "metadata": {},
   "outputs": [],
   "source": [
    "import pandas as pd\n",
    "import numpy as np\n",
    "import matplotlib.pyplot as plt\n",
    "from scipy.stats import cauchy, expon\n",
    "from scipy.optimize import minimize"
   ]
  },
  {
   "cell_type": "markdown",
   "metadata": {},
   "source": [
    "## Problem 1: Projections\n",
    "\n",
    "For this problem, you will read in the dataset here: `proj_data.csv` (sitting next to this notebook). You can use Pandas `read_csv`. It does not have an index, and the first row is the column names."
   ]
  },
  {
   "cell_type": "code",
   "execution_count": null,
   "metadata": {},
   "outputs": [],
   "source": [
    "df = pd.read_csv('MyVectors.csv')"
   ]
  },
  {
   "cell_type": "markdown",
   "metadata": {},
   "source": [
    "The dataset is a collection of two vectors; `x_*` is displacement from the origin, and `d_*` is normalized direction. Note that `x_z` is 0, and so is not included explicitly in the file. Technically, a line only has 4 degrees of freedom, so you can reconstruct `d_z` from `d_x` and `d_y` using the relation $1 = d_x^2 + d_y^2 + d_z^2$.\n",
    "\n",
    "Add $d_z$ in a new `d_z` column, and a `x_z` column of zeros for $x_z$."
   ]
  },
  {
   "cell_type": "code",
   "execution_count": null,
   "metadata": {},
   "outputs": [],
   "source": [
    "..."
   ]
  },
  {
   "cell_type": "code",
   "execution_count": null,
   "metadata": {},
   "outputs": [],
   "source": [
    "assert len(df.columns) == 6"
   ]
  },
  {
   "cell_type": "markdown",
   "metadata": {},
   "source": [
    "Now, plot a 2D histogram of $x_y$ vs. $x_x$. (Remember, it's convertional to write y axis vs. x axis when descibing a plot in text.) Plot 100 bins in the range -10 to 10 on both axis."
   ]
  },
  {
   "cell_type": "code",
   "execution_count": null,
   "metadata": {},
   "outputs": [],
   "source": [
    "..."
   ]
  },
  {
   "cell_type": "markdown",
   "metadata": {},
   "source": [
    "Now, you can do the same plotting but instead of using square binnings, use hexagonal binnings and add a color bar."
   ]
  },
  {
   "cell_type": "code",
   "execution_count": null,
   "metadata": {},
   "outputs": [],
   "source": [
    "..."
   ]
  },
  {
   "cell_type": "markdown",
   "metadata": {},
   "source": [
    "These two vectors ($\\vec{x}$ and $\\vec{d}$) describe a line made up of points $\\vec{p} = \\vec{x} + t \\vec{d}$ (where the $\\vec{x}$ vectors currently lie on the $z=0$ plane). Project onto a plane at $z=+1$, $x=1$ and $z=-1$ the vectors $\\vec{p}$ with $t=0.5$. Make 2D histograms like the one above for the three planes. For this, it is *probably* easier to turn the three columns of length N describing x, y, and z into a 3xN numpy array (up to you). Depends on what you find easier to read."
   ]
  },
  {
   "cell_type": "code",
   "execution_count": null,
   "metadata": {},
   "outputs": [],
   "source": [
    "..."
   ]
  },
  {
   "cell_type": "code",
   "execution_count": null,
   "metadata": {},
   "outputs": [],
   "source": [
    "..."
   ]
  },
  {
   "cell_type": "code",
   "execution_count": null,
   "metadata": {},
   "outputs": [],
   "source": [
    "..."
   ]
  },
  {
   "cell_type": "markdown",
   "metadata": {},
   "source": [
    "# Problem 2: Tips\n",
    "\n",
    "Let's load the tips dataset from seaborn. After loading it, you should clean it up (or you can supply a converter dictionary to the read function, but cleaning it up afterwards is probably easier)."
   ]
  },
  {
   "cell_type": "code",
   "execution_count": null,
   "metadata": {},
   "outputs": [],
   "source": [
    "tips = pd.read_csv('https://raw.githubusercontent.com/mwaskom/seaborn-data/master/tips.csv')"
   ]
  },
  {
   "cell_type": "markdown",
   "metadata": {},
   "source": [
    "Clean up the dataset types. `sex`, `day`, and `time` should be categorical. `smoker` should be boolean. You technically can do this in the `read_csv` function above instead. Warning: Note that this dataset has a column named \"size\": since there's a pandas dataframe member named `.size`, pandas will not let you use the shortcut `tips.size` to refer to the column, but rather it will be the `.size` member. You have been warned."
   ]
  },
  {
   "cell_type": "code",
   "execution_count": null,
   "metadata": {},
   "outputs": [],
   "source": [
    "tips.head()"
   ]
  },
  {
   "cell_type": "code",
   "execution_count": null,
   "metadata": {},
   "outputs": [],
   "source": [
    "print(\"The dtypes in the dataframe are:\", end='\\n\\n')\n",
    "print(tips.dtypes)"
   ]
  },
  {
   "cell_type": "code",
   "execution_count": null,
   "metadata": {},
   "outputs": [],
   "source": [
    "..."
   ]
  },
  {
   "cell_type": "code",
   "execution_count": null,
   "metadata": {},
   "outputs": [],
   "source": [
    "tips.info()"
   ]
  },
  {
   "cell_type": "markdown",
   "metadata": {},
   "source": [
    "Now, add a column with the tip fraction."
   ]
  },
  {
   "cell_type": "code",
   "execution_count": null,
   "metadata": {},
   "outputs": [],
   "source": [
    "..."
   ]
  },
  {
   "cell_type": "markdown",
   "metadata": {},
   "source": [
    "What is the average tip fraction? What is the average tip fraction for male waiters from smokers in parties less than 3? You can just display the table."
   ]
  },
  {
   "cell_type": "code",
   "execution_count": null,
   "metadata": {},
   "outputs": [],
   "source": [
    "AVERAGE_TIP_TOTAL = ...\n",
    "AVERAGE_TIP_1 = ...\n",
    "print(AVERAGE_TIP_TOTAL, AVERAGE_TIP_1)"
   ]
  },
  {
   "cell_type": "markdown",
   "metadata": {},
   "source": [
    "Plot a normalized histogram of the `tip_fraction` for male and female waiters with two histograms on the same axis (side by side bars, or points). Use 20 or fewer bins."
   ]
  },
  {
   "cell_type": "code",
   "execution_count": null,
   "metadata": {},
   "outputs": [],
   "source": [
    "..."
   ]
  },
  {
   "cell_type": "markdown",
   "metadata": {},
   "source": [
    "## Problem 3: Using MonteCarlo for integration\n",
    "\n",
    "Find the excluded volume from the intersection between a sphere and a cube, using\n",
    "Monte Carlo techniques (volume from the sphere that is not contained in the cube). \n",
    "The sphere has radius 1 and is centered at\n",
    "the origin. The cube is centered at (0.25,0.25,0.25) and it has a side length of 0.5.\n"
   ]
  },
  {
   "cell_type": "code",
   "execution_count": null,
   "metadata": {},
   "outputs": [],
   "source": [
    "import numpy as np\n",
    "import matplotlib.pyplot as plt\n",
    "    \n",
    "...."
   ]
  },
  {
   "cell_type": "markdown",
   "metadata": {},
   "source": [
    "## Problem 4: Generating a distribution\n",
    "\n",
    "Generate the following distribution two ways. The PDF is (only for $x>0$):\n",
    "\n",
    "$$\n",
    "P(x) = \\lambda e^{- \\lambda x}\n",
    "$$"
   ]
  },
  {
   "cell_type": "code",
   "execution_count": null,
   "metadata": {},
   "outputs": [],
   "source": [
    "l=2\n",
    "x = np.linspace(0,5,100)\n",
    "plt.plot(x,l*np.exp(-l*x))\n",
    "\n",
    "plt.show()"
   ]
  },
  {
   "cell_type": "markdown",
   "metadata": {},
   "source": [
    "### 1.1: Method 1\n",
    "\n",
    "Use the rejection method generate a distribution. `N` is the maximum number of samples to generate (your function can produce less)."
   ]
  },
  {
   "cell_type": "code",
   "execution_count": 1,
   "metadata": {},
   "outputs": [],
   "source": [
    "\n",
    "def f(x):\n",
    "    ...\n",
    "\n",
    "def generate_dist_1(N):\n",
    "    ..."
   ]
  },
  {
   "cell_type": "code",
   "execution_count": null,
   "metadata": {},
   "outputs": [],
   "source": [
    "vals = generate_dist_1(1_000_000)\n",
    "plt.hist(vals, bins=np.linspace(0,10,100), density=True)\n",
    "x = np.linspace(0,10,100)\n",
    "y=l*np.exp(-l*x)\n",
    "plt.plot(x,y)\n",
    "plt.show()"
   ]
  },
  {
   "cell_type": "markdown",
   "metadata": {},
   "source": [
    "### 1.2 Method 2\n",
    "\n",
    "Use the inverse of the cumulative distribution function (CDF) method to generate the distribution. \n",
    "\n",
    "First let us calculate the CDF. This is nothing else than $F(x) = \\int_0^x P(x') dx'$. \n",
    "\n",
    "For $0 \\le x \\le 1$,\n",
    "\n",
    "$$\n",
    "F(x) = \\int_0^x \\lambda e^{\\lambda x'} dx' = 1 - e^{-\\lambda x}\n",
    "$$\n",
    "\n",
    "Now, find a number within a uniform distribution, $u$. $u = F(x) = 1-e^{-\\lambda x}$. Therefore, $x = \\frac{-1}{\\lambda}\\ln (1-u)$. $x$ will be the new set of random numbers but now with the desired probability distribution."
   ]
  },
  {
   "cell_type": "code",
   "execution_count": null,
   "metadata": {},
   "outputs": [],
   "source": [
    "def func1(x):\n",
    "    ...\n",
    "\n",
    "def generate_dist_2(nsample):\n",
    "    ..."
   ]
  },
  {
   "cell_type": "code",
   "execution_count": null,
   "metadata": {},
   "outputs": [],
   "source": [
    "data = generate_dist_2(1_000_000)\n",
    "print(data)\n",
    "plt.hist(data, bins=np.linspace(0,10,101), density=True)\n",
    "x = np.linspace(0,10,100)\n",
    "y=l*np.exp(-l*x)\n",
    "plt.plot(x,y)\n",
    "plt.show()"
   ]
  },
  {
   "cell_type": "markdown",
   "metadata": {},
   "source": [
    "## Problem 5: Integrals\n",
    "\n",
    "A body is moving in one dimension with an acceleration of $a(t)=10/(1+\\exp((t-2)/2+\\exp(-t/0.5))$. Find the particle position as function of time. Plot the position agains velocity for this particle. Meaning, you should plot $x(t),v(t)$\n"
   ]
  },
  {
   "cell_type": "code",
   "execution_count": null,
   "metadata": {},
   "outputs": [],
   "source": [
    "import math\n",
    "from scipy.integrate import quad\n",
    "\n",
    "def a(t):\n",
    "    ...\n",
    "\n",
    "...."
   ]
  },
  {
   "cell_type": "code",
   "execution_count": null,
   "metadata": {},
   "outputs": [],
   "source": []
  }
 ],
 "metadata": {
  "kernelspec": {
   "display_name": "Python 3 (ipykernel)",
   "language": "python",
   "name": "python3"
  },
  "language_info": {
   "codemirror_mode": {
    "name": "ipython",
    "version": 3
   },
   "file_extension": ".py",
   "mimetype": "text/x-python",
   "name": "python",
   "nbconvert_exporter": "python",
   "pygments_lexer": "ipython3",
   "version": "3.8.10"
  }
 },
 "nbformat": 4,
 "nbformat_minor": 2
}
