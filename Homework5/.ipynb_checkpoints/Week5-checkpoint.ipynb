{
 "cells": [
  {
   "cell_type": "markdown",
   "metadata": {},
   "source": [
    "# Week Four: Pandas and Scipy\n",
    "\n",
    "To be graded, your notebook must be runnable start to finish. If you can't make an in-notebook test pass, comment it out for to attempt to get partial credit. You should replace the `...` markers with your code. Do not change the names of the pre-defined ALL_CAPS variables and functions. (If you start from scratch, make sure you match the requested function names and requested ALL_CAPS variables). Other that that, you are free to define or make anything you wish. Remember that functions will often be tested with different numbers than the ones you are given.\n",
    "\n",
    "This notebook will also be graded for plots - please make sure you save the notebook with the plots present, just in case I have a problem running them. If you change to the notebook backend (or any other backend), I recommend changing back to inline and re-running before saving the file - some of the more interactive backends don't get captured in the saved file."
   ]
  },
  {
   "cell_type": "code",
   "execution_count": null,
   "metadata": {},
   "outputs": [],
   "source": [
    "WVUID = 'sixplus2'\n",
    "NAME = 'Joe Smith'"
   ]
  },
  {
   "cell_type": "code",
   "execution_count": null,
   "metadata": {},
   "outputs": [],
   "source": [
    "# import any library you need to solve the problems below"
   ]
  },
  {
   "cell_type": "markdown",
   "metadata": {},
   "source": [
    "# Exploring the Periodic Table "
   ]
  },
  {
   "cell_type": "markdown",
   "metadata": {},
   "source": [
    "You have been given a datafile (in this directory) called PeriodicTableOfElements.csv. It contains all the elements in the periodic table and what we will like to know is to be able to explore the properties of the different elements.\n",
    "\n",
    "Atomic Number,Element,Symbol,Atomic Weight,Period,Group,Phase,Most Stable Crystal,Type,Ionic Radius,Atomic Radius,Electronegativity,First Ionization Potential,Density,Melting Point (K),Boiling Point (K),Isotopes,Discoverer,Year of Discovery,Specific Heat Capacity,Electron Configuration,Display Row,Display Column"
   ]
  },
  {
   "cell_type": "code",
   "execution_count": null,
   "metadata": {},
   "outputs": [],
   "source": [
    "# Using pandas, read the datafile and store it"
   ]
  },
  {
   "cell_type": "code",
   "execution_count": null,
   "metadata": {},
   "outputs": [],
   "source": [
    "#find the average of the Atomic Weight of all the elements in the periodic table."
   ]
  },
  {
   "cell_type": "code",
   "execution_count": null,
   "metadata": {},
   "outputs": [],
   "source": [
    "#find the average of the Atomic Weight of the periodic table with a electronegativity larger than 3.0"
   ]
  },
  {
   "cell_type": "code",
   "execution_count": null,
   "metadata": {},
   "outputs": [],
   "source": [
    "# write a a function that return a set of elements with specific properties which is provided by the\n",
    "# user. \n",
    "# The user provides a dictionary as {\"Boiling Point\":[10,500],\"Atomic Radius\":[0.5,1.5]}\n",
    "# The number of properties used to create the list of elements is not constrained and you need to check that\n",
    "# the property requested by the used exist within the possible list of properties existing in the file\n",
    "# As the value of the key in the dictionary, the user can provide (a) a single number \n",
    "# (b) an array with two elements, where the content of the array will be the minimum and the maximum value.\n",
    "# In the case that the property has only string values, the user can only provide a single string.\n",
    "# The function should be able to print a message if the user made a mistake with the expected format."
   ]
  },
  {
   "cell_type": "code",
   "execution_count": null,
   "metadata": {},
   "outputs": [],
   "source": [
    "# Plot a histogram of the melting and the boiling point. Both plots need to share the same x-axis and the \n",
    "# value for the x should be the Atomic number"
   ]
  },
  {
   "cell_type": "code",
   "execution_count": null,
   "metadata": {},
   "outputs": [],
   "source": [
    "# plot a histogram of all the different crystal type \n",
    "# (on the x-axis is the crystal and on the y-axis the number of elements with that particular crystal type)"
   ]
  },
  {
   "cell_type": "markdown",
   "metadata": {},
   "source": [
    "# Solving simple algebraic equations with Scipy"
   ]
  },
  {
   "cell_type": "code",
   "execution_count": null,
   "metadata": {},
   "outputs": [],
   "source": [
    "# Using numpy, create a matrix where each of the values in the matrix is (i+1)*(j+1)\n",
    "# i is the row position and j is the column position.\n",
    "# the matrix should be of dimension 4x4 and you should use the lambda function for such. Call it M"
   ]
  },
  {
   "cell_type": "code",
   "execution_count": null,
   "metadata": {},
   "outputs": [],
   "source": [
    "# Normalize the given matrix M so that all rows sum to 1.0."
   ]
  },
  {
   "cell_type": "code",
   "execution_count": null,
   "metadata": {},
   "outputs": [],
   "source": [
    "# This new matrix then be considered as a transition matrix P for a Markov chain. \n",
    "# A markov chain is a process where a system in state i can jump to other states with a given probablity\n",
    "# if the normalized matrix is called P, then the element P_ij is the \n",
    "# probability that the system being in state i can go to state j\n",
    "# If the Markov chain is well defined, the probability needs to have a stationarity distribution\n",
    "# it means that after some time, the probability of going from i to j is the same always independently\n",
    "# of the number of steps you have repeated the process.\n",
    "\n",
    "\n",
    "#In this problem you will find the stationary distribution of this matrix in differen ways "
   ]
  },
  {
   "cell_type": "code",
   "execution_count": null,
   "metadata": {},
   "outputs": [],
   "source": [
    "# By raising the matrix P to some large power unitl it doesn’t change with higher powers \n",
    "# (see np.linalg.matrix_power), take the power to be 50 \n",
    "# this means that you have multiplied PPPP....P  50 times\n",
    "# now compute the 51 multiplication and use np.testing.assert_allclose to see if P50 is VERY close to P51"
   ]
  },
  {
   "cell_type": "code",
   "execution_count": null,
   "metadata": {},
   "outputs": [],
   "source": [
    "# Create a random vector of 4 components and normalize it to 1.0. Called V"
   ]
  },
  {
   "cell_type": "code",
   "execution_count": null,
   "metadata": {},
   "outputs": [],
   "source": [
    "# compute the product between V and P51\n",
    "# You will use the result here to compare with the results below."
   ]
  },
  {
   "cell_type": "code",
   "execution_count": null,
   "metadata": {},
   "outputs": [],
   "source": [
    "# import the linalg from scipy"
   ]
  },
  {
   "cell_type": "code",
   "execution_count": null,
   "metadata": {},
   "outputs": [],
   "source": [
    "# From the equation for stationarity wP=w, we can see that w must be a left eigenvector of P with \n",
    "# eigenvalue 1 (Note: np.linalg.eig returns the right eigenvectors, but the left eighenvector of a \n",
    "# matrix is the right eigenvector of the transposed matrix). Use this to find w using np.linalg.eig (normalized)\n",
    "# compare with the previous calculation."
   ]
  },
  {
   "cell_type": "code",
   "execution_count": null,
   "metadata": {},
   "outputs": [],
   "source": [
    "# now let us use a different method\n",
    "# in the previous statement we talk about w, as the solution to the problem wP=w\n",
    "# now let use solve this problem by using a different methodology"
   ]
  },
  {
   "cell_type": "markdown",
   "metadata": {},
   "source": [
    "$$\n",
    "\\begin{align}\n",
    "  w_1 P_{11} + w_2 P_{21} + w_3 P_{31} + w_4 P_{41} &= w_1 \\\\\n",
    "  w_1 P_{12} + w_2 P_{22} + w_3 P_{32} + w_4 P_{42}&= w_2 \\\\\n",
    "  w_1 P_{13} + w_2 P_{23} + w_3 P_{33} + w_4 P_{43} &= w_3 \\\\\n",
    "  w_1 P_{13} + w_2 P_{23} + w_3 P_{33} + w_4 P_{44} &= w_4\n",
    "\\end{align}\n",
    "$$\n",
    "\n",
    "\n",
    "This is a singular system (check it if you do not believe me), but we also know that\n",
    "$w_1+w_2+w_3+w_4=1$ Use these facts to set up a linear system of equations that can be solved with np.linalg.solve to find w.\n",
    "\n",
    "HINT: you can drop the last equation from the series of four and replace it by the condition that the sum is equal to one. "
   ]
  },
  {
   "cell_type": "code",
   "execution_count": null,
   "metadata": {},
   "outputs": [],
   "source": [
    "# As a check you should get the same W independently of the method. Math is marvelous!"
   ]
  }
 ],
 "metadata": {
  "kernelspec": {
   "display_name": "Python 3 (ipykernel)",
   "language": "python",
   "name": "python3"
  },
  "language_info": {
   "codemirror_mode": {
    "name": "ipython",
    "version": 3
   },
   "file_extension": ".py",
   "mimetype": "text/x-python",
   "name": "python",
   "nbconvert_exporter": "python",
   "pygments_lexer": "ipython3",
   "version": "3.8.10"
  }
 },
 "nbformat": 4,
 "nbformat_minor": 2
}
