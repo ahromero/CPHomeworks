{
 "cells": [
  {
   "cell_type": "markdown",
   "id": "aba6765f",
   "metadata": {},
   "source": [
    "## Homework 8"
   ]
  },
  {
   "cell_type": "markdown",
   "id": "28497268",
   "metadata": {},
   "source": [
    "### Problem 1"
   ]
  },
  {
   "cell_type": "markdown",
   "id": "2b905427",
   "metadata": {},
   "source": [
    "Solve numerically the problem of a ball of mass m (a ball attached to a spring, which is attached to the ceiling), and attached to a spring with spring constant k. (m, k) are provided by the user Initially the ball is at a given angle and the spring is at the equilibrium length, l (also provided by the user. This is a 2D problem and your task is to plot the evolution of  the ballas function of time. You should produce the following plots (using animate or the Vpython method we discussed in class).\n",
    "\n",
    "•\tShows the evolution of the ball position, include the spring in the drawing.\n",
    "•\tx vs vx and y vs vy\n",
    "•\tIn each case report the energy value at the corner of the window, which is evolving as function of time.\n"
   ]
  },
  {
   "cell_type": "code",
   "execution_count": null,
   "id": "c5b18f59",
   "metadata": {},
   "outputs": [],
   "source": [
    "#Numerical solution"
   ]
  },
  {
   "cell_type": "code",
   "execution_count": null,
   "id": "9a886cdc",
   "metadata": {},
   "outputs": [],
   "source": [
    "#Plotting"
   ]
  },
  {
   "cell_type": "markdown",
   "id": "8e488d8c",
   "metadata": {},
   "source": [
    "### Problem 2"
   ]
  },
  {
   "cell_type": "markdown",
   "id": "20c2d261",
   "metadata": {},
   "source": [
    "Consider now a two-spring ball system (a ball is attached to a spring, which is attached to the ceiling and a second ball is attached to the first ball through a spring). The user provides (m1,m2,k1,k2 and the initial conditions). Repeat the plotting exercise of the previous problem. "
   ]
  },
  {
   "cell_type": "code",
   "execution_count": null,
   "id": "e1cbc874",
   "metadata": {},
   "outputs": [],
   "source": []
  },
  {
   "cell_type": "markdown",
   "id": "37f889a3",
   "metadata": {},
   "source": [
    "### Problem 3\n",
    "\n",
    "### Spectrogram"
   ]
  },
  {
   "cell_type": "markdown",
   "id": "80f92e7f",
   "metadata": {},
   "source": [
    "A spectrogram can be defined as the visual representation of frequencies against time which shows the signal strength at a particular time. In this exercise you will learn how to do this. The spectrograms are actually created using Short-time Fourier Transform(STFT). It helps us to do a time-varying analysis of the signal provided. Anyway, it is not required to get into the depth of this topic. The main concept is that we divide the audio signal into small pieces and then that audio signal is plotted on the graph against time. "
   ]
  },
  {
   "cell_type": "markdown",
   "id": "b94ded4f",
   "metadata": {},
   "source": [
    "Sound is represented in the form of an audio signal having parameters such as frequency, bandwidth, decibel, etc. A typical audio signal can be expressed as a function of Amplitude and Time. Python has some great libraries for audio processing like Librosa and PyAudio.There are also built-in modules for some basic audio functionalities. IN this case, we will use the package librosa, maybe you will have to import it as\n",
    "\n",
    "```\n",
    "pip install librosa\n",
    "```\n",
    "or\n",
    "```\n",
    "conda install -c conda-forge librosa\n",
    "```"
   ]
  },
  {
   "cell_type": "code",
   "execution_count": 8,
   "id": "d45d6eb8",
   "metadata": {},
   "outputs": [
    {
     "ename": "SyntaxError",
     "evalue": "invalid syntax (1486758481.py, line 5)",
     "output_type": "error",
     "traceback": [
      "\u001b[0;36m  File \u001b[0;32m\"/var/folders/sd/7rq2vwcx7fd8stfzsvfnz9980000gq/T/ipykernel_8359/1486758481.py\"\u001b[0;36m, line \u001b[0;32m5\u001b[0m\n\u001b[0;31m    ....\u001b[0m\n\u001b[0m        ^\u001b[0m\n\u001b[0;31mSyntaxError\u001b[0m\u001b[0;31m:\u001b[0m invalid syntax\n"
     ]
    }
   ],
   "source": [
    "# Using librosa load the wav file included in this directory, store the data and the sampling rate.\n",
    "\n",
    "#import \n",
    "\n",
    "....\n",
    "\n",
    "print(...)\n"
   ]
  },
  {
   "cell_type": "code",
   "execution_count": 6,
   "id": "07225e39",
   "metadata": {},
   "outputs": [
    {
     "data": {
      "text/plain": [
       "Ellipsis"
      ]
     },
     "execution_count": 6,
     "metadata": {},
     "output_type": "execute_result"
    }
   ],
   "source": [
    "#resample the file from 22KHZ to 44.1KHz (check the value above.. it is around 22kHz)\n",
    "\n",
    "..."
   ]
  },
  {
   "cell_type": "code",
   "execution_count": 5,
   "id": "63004c13",
   "metadata": {},
   "outputs": [
    {
     "data": {
      "text/plain": [
       "Ellipsis"
      ]
     },
     "execution_count": 5,
     "metadata": {},
     "output_type": "execute_result"
    }
   ],
   "source": [
    "#Using,IPython.display.Audio you can play the audio in your jupyter notebook.\n",
    "\n",
    "#import ...\n",
    "\n",
    "...\n",
    "\n",
    "\n"
   ]
  },
  {
   "cell_type": "code",
   "execution_count": 3,
   "id": "d1e13555",
   "metadata": {},
   "outputs": [],
   "source": [
    "#use librosa.display to show the data\n",
    "...\n"
   ]
  },
  {
   "cell_type": "markdown",
   "id": "a1038462",
   "metadata": {},
   "source": [
    "A spectrogram is a visual way of representing the signal strength, or “loudness”, of a signal over time at various frequencies present in a particular waveform. Not only can one see whether there is more or less energy at, for example, 2 Hz vs 10 Hz, but one can also see how energy levels vary over time"
   ]
  },
  {
   "cell_type": "code",
   "execution_count": 2,
   "id": "045171a4",
   "metadata": {},
   "outputs": [
    {
     "data": {
      "text/plain": [
       "Ellipsis"
      ]
     },
     "execution_count": 2,
     "metadata": {},
     "output_type": "execute_result"
    }
   ],
   "source": [
    "# use librosa.stft and amplitude_to_db to obtain the spectogram.\n",
    "# Use specshow \n",
    "# Add a colorbar to see the scale\n",
    "\n",
    "...\n",
    "\n"
   ]
  },
  {
   "cell_type": "code",
   "execution_count": 1,
   "id": "966c9094",
   "metadata": {},
   "outputs": [
    {
     "data": {
      "text/plain": [
       "Ellipsis"
      ]
     },
     "execution_count": 1,
     "metadata": {},
     "output_type": "execute_result"
    }
   ],
   "source": [
    "#The vertical axis shows frequencies (from 0 to 10kHz), and the horizontal axis shows the time of the clip. \n",
    "#Since we see that all action is taking place at the bottom of the spectrum, we can convert the frequency \n",
    "#axis to a logarithmic one.\n",
    "\n",
    "...\n",
    "\n"
   ]
  },
  {
   "cell_type": "code",
   "execution_count": null,
   "id": "4dd2731e",
   "metadata": {},
   "outputs": [],
   "source": []
  }
 ],
 "metadata": {
  "kernelspec": {
   "display_name": "Python 3 (ipykernel)",
   "language": "python",
   "name": "python3"
  },
  "language_info": {
   "codemirror_mode": {
    "name": "ipython",
    "version": 3
   },
   "file_extension": ".py",
   "mimetype": "text/x-python",
   "name": "python",
   "nbconvert_exporter": "python",
   "pygments_lexer": "ipython3",
   "version": "3.8.10"
  }
 },
 "nbformat": 4,
 "nbformat_minor": 5
}
